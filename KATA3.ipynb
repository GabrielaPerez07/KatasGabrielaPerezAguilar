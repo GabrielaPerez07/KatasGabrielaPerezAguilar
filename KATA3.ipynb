{
 "cells": [
  {
   "cell_type": "markdown",
   "metadata": {},
   "source": [
    "## Ejercicio 1"
   ]
  },
  {
   "cell_type": "code",
   "execution_count": 1,
   "metadata": {},
   "outputs": [
    {
     "name": "stdout",
     "output_type": "stream",
     "text": [
      "Advertencia!! un asteroide se acerca a la tierra demasiado rápido\n"
     ]
    }
   ],
   "source": [
    "asteroide = 49\n",
    "if asteroide > 25:\n",
    "    print('Advertencia!! un asteroide se acerca a la tierra demasiado rápido')\n",
    "else:\n",
    "    print('No hay nada que temer por el momento, buen día!')\n"
   ]
  },
  {
   "cell_type": "markdown",
   "metadata": {},
   "source": [
    "## Ejercicio: Uso de operadores and y or"
   ]
  },
  {
   "cell_type": "code",
   "execution_count": 5,
   "metadata": {},
   "outputs": [
    {
     "name": "stdout",
     "output_type": "stream",
     "text": [
      "¡Hay un asteroide que se dirige a la tierra ahora a una velocidad de 19 km/s!\n"
     ]
    }
   ],
   "source": [
    "asteroide = 21\n",
    "if asteroide > 20:\n",
    "    print('¡Hay un asteroide que se dirige a la tierra ahora a una velocidad de 19 km/s!')\n",
    "elif asteroide == 20:\n",
    "    print('Mira hay una luz en el cielo!!')\n",
    "else:\n",
    "    print('No te preocupes, sigue con tu día')    \n"
   ]
  },
  {
   "cell_type": "code",
   "execution_count": 1,
   "metadata": {},
   "outputs": [
    {
     "name": "stdout",
     "output_type": "stream",
     "text": [
      "CUIDADO! Un asteroide se aproxima hacia la tierra!\n"
     ]
    }
   ],
   "source": [
    "velocidadAsteroide = 26\n",
    "tamAsteroide = 40\n",
    "if velocidadAsteroide > 25 and tamAsteroide > 25:\n",
    "    print('CUIDADO! Un asteroide se aproxima hacia la tierra!')\n",
    "elif velocidadAsteroide >=20:\n",
    "    print('Mira, hay una luz en el cielo!')\n",
    "elif tamAsteroide < 25:\n",
    "    print('No hay nada de que preocuparse')\n",
    "else:\n",
    "    print('No te preocupes, continua con tu día')    \n",
    "\n"
   ]
  }
 ],
 "metadata": {
  "interpreter": {
   "hash": "6a1ee5c7086958cd9fd29e6938f0ab923a5cf20469541439eee49044d8268d9f"
  },
  "kernelspec": {
   "display_name": "Python 3.10.2 64-bit (windows store)",
   "language": "python",
   "name": "python3"
  },
  "language_info": {
   "codemirror_mode": {
    "name": "ipython",
    "version": 3
   },
   "file_extension": ".py",
   "mimetype": "text/x-python",
   "name": "python",
   "nbconvert_exporter": "python",
   "pygments_lexer": "ipython3",
   "version": "3.10.2"
  },
  "orig_nbformat": 4
 },
 "nbformat": 4,
 "nbformat_minor": 2
}
