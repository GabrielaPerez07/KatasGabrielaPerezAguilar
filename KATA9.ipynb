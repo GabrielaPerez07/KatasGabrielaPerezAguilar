{
 "cells": [
  {
   "cell_type": "markdown",
   "metadata": {},
   "source": [
    "## Uso de funciones en Python\n",
    "Ejercicio 1: Trabajar con argumentos en funciones"
   ]
  },
  {
   "cell_type": "code",
   "execution_count": 4,
   "metadata": {},
   "outputs": [],
   "source": [
    "#definir funcion\n",
    "def Informe_tanques(tanque_hidrogeno, tanque_oxigeno, tanque_externo):\n",
    "    totalProm = (tanque_hidrogeno + tanque_oxigeno + tanque_externo) / 3\n",
    "    return f\"\"\" Informe general:\n",
    "    Promedio Total: {totalProm}%\n",
    "    El tanque de Hidrogeno contiene: {tanque_hidrogeno}%\n",
    "    El tanque de Oxigeno contiene: {tanque_oxigeno}%\n",
    "    El tanque Externo contiene: {tanque_externo}%\n",
    "    \"\"\""
   ]
  },
  {
   "cell_type": "code",
   "execution_count": 5,
   "metadata": {},
   "outputs": [
    {
     "name": "stdout",
     "output_type": "stream",
     "text": [
      " Informe general:\n",
      "    Promedio Total: 73.33333333333333%\n",
      "    El tanque de Hidrogeno contiene: 75%\n",
      "    El tanque de Oxigeno contiene: 85%\n",
      "    El tanque Externo contiene: 60%\n",
      "    \n"
     ]
    }
   ],
   "source": [
    "print(Informe_tanques(75, 85, 60))"
   ]
  },
  {
   "cell_type": "code",
   "execution_count": 10,
   "metadata": {},
   "outputs": [],
   "source": [
    "def promedio(values):\n",
    "    total = sum(values)\n",
    "    numerodeObj = len(values)\n",
    "    return total / numerodeObj\n",
    "\n"
   ]
  },
  {
   "cell_type": "code",
   "execution_count": 15,
   "metadata": {},
   "outputs": [
    {
     "data": {
      "text/plain": [
       "88.0"
      ]
     },
     "execution_count": 15,
     "metadata": {},
     "output_type": "execute_result"
    }
   ],
   "source": [
    "promedio([88,88,88])"
   ]
  },
  {
   "cell_type": "code",
   "execution_count": 16,
   "metadata": {},
   "outputs": [],
   "source": [
    "def Informe_tanques(tanque_hidrogeno, tanque_oxigeno, tanque_externo):\n",
    "    return f\"\"\" Informe general:\n",
    "    Promedio Total:{promedio([tanque_hidrogeno, tanque_oxigeno, tanque_externo])}%\n",
    "    El tanque de Hidrogeno contiene: {tanque_hidrogeno}%\n",
    "    El tanque de Oxigeno contiene: {tanque_oxigeno}%\n",
    "    El tanque Externo contiene: {tanque_externo}%\n",
    "    \"\"\""
   ]
  },
  {
   "cell_type": "code",
   "execution_count": 17,
   "metadata": {},
   "outputs": [
    {
     "name": "stdout",
     "output_type": "stream",
     "text": [
      " Informe general:\n",
      "    Promedio Total:68.0%\n",
      "    El tanque de Hidrogeno contiene: 98%\n",
      "    El tanque de Oxigeno contiene: 46%\n",
      "    El tanque Externo contiene: 60%\n",
      "    \n"
     ]
    }
   ],
   "source": [
    "print(Informe_tanques(98,46,60))"
   ]
  },
  {
   "cell_type": "markdown",
   "metadata": {},
   "source": [
    "## Ejercicio 2: Trabajo con argumentos de palabra clave\n",
    "Ejercicio : Trabajar con argumentos de palabras clave en funciones"
   ]
  },
  {
   "cell_type": "code",
   "execution_count": 20,
   "metadata": {},
   "outputs": [
    {
     "name": "stdout",
     "output_type": "stream",
     "text": [
      "\n",
      "    Mison a Marte\n",
      "    Tiempó total de viaje: 65 minutos\n",
      "    Total de combustible restante: 500000 galones\n",
      "    \n"
     ]
    }
   ],
   "source": [
    "def InformeMision(hora_prelanzamiento, horadespegue, destino, tanqueexterno, tanquegas):\n",
    "    return f\"\"\"\n",
    "    Mison a {destino}\n",
    "    Tiempó total de viaje: {hora_prelanzamiento + horadespegue} minutos\n",
    "    Total de combustible restante: {tanqueexterno + tanquegas} galones\n",
    "    \"\"\"\n",
    "\n",
    "print(InformeMision(14, 51, \"Marte\", 200000, 300000))"
   ]
  },
  {
   "cell_type": "code",
   "execution_count": 24,
   "metadata": {},
   "outputs": [
    {
     "name": "stdout",
     "output_type": "stream",
     "text": [
      "\n",
      "    Mision a Marte\n",
      "    Tiempo taotal de viaje: 91 minutos\n",
      "    Total de combustible: 500000\n",
      "    \n"
     ]
    }
   ],
   "source": [
    "def InformeMision(destino, *minutos, **combustibleReservado):\n",
    "    return f\"\"\"\n",
    "    Mision a {destino}\n",
    "    Tiempo taotal de viaje: {sum(minutos)} minutos\n",
    "    Total de combustible: {sum(combustibleReservado.values())}\n",
    "    \"\"\"\n",
    "\n",
    "print(InformeMision(\"Marte\", 15, 25, 51, main=300000, external=200000))"
   ]
  },
  {
   "cell_type": "code",
   "execution_count": 25,
   "metadata": {},
   "outputs": [
    {
     "name": "stdout",
     "output_type": "stream",
     "text": [
      "\n",
      "    Mission to Moon\n",
      "    Total travel time: 74 minutes\n",
      "    Total fuel left: 500000\n",
      "    main tank --> 300000 gallons left\n",
      "external tank --> 200000 gallons left\n",
      "\n"
     ]
    }
   ],
   "source": [
    "def mission_report(destination, *minutes, **fuel_reservoirs):\n",
    "    main_report = f\"\"\"\n",
    "    Mission to {destination}\n",
    "    Total travel time: {sum(minutes)} minutes\n",
    "    Total fuel left: {sum(fuel_reservoirs.values())}\n",
    "    \"\"\"\n",
    "    for tank_name, gallons in fuel_reservoirs.items():\n",
    "        main_report += f\"{tank_name} tank --> {gallons} gallons left\\n\"\n",
    "    return main_report\n",
    "\n",
    "print(mission_report(\"Moon\", 8, 11, 55, main=300000, external=200000))"
   ]
  }
 ],
 "metadata": {
  "interpreter": {
   "hash": "6a1ee5c7086958cd9fd29e6938f0ab923a5cf20469541439eee49044d8268d9f"
  },
  "kernelspec": {
   "display_name": "Python 3.10.2 64-bit (windows store)",
   "language": "python",
   "name": "python3"
  },
  "language_info": {
   "codemirror_mode": {
    "name": "ipython",
    "version": 3
   },
   "file_extension": ".py",
   "mimetype": "text/x-python",
   "name": "python",
   "nbconvert_exporter": "python",
   "pygments_lexer": "ipython3",
   "version": "3.10.2"
  },
  "orig_nbformat": 4
 },
 "nbformat": 4,
 "nbformat_minor": 2
}
